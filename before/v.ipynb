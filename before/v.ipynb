{
 "cells": [
  {
   "cell_type": "code",
   "execution_count": 4,
   "metadata": {},
   "outputs": [],
   "source": [
    "import pandas as pd"
   ]
  },
  {
   "cell_type": "code",
   "execution_count": 6,
   "metadata": {},
   "outputs": [
    {
     "name": "stdout",
     "output_type": "stream",
     "text": [
      "      name  age\n",
      "0    anwar   18\n",
      "1  nafeesa   17\n"
     ]
    }
   ],
   "source": [
    "ind={'name':['anwar','nafeesa'],\n",
    "'age':[18,17]}\n",
    "df_ind=pd.DataFrame(ind)\n",
    "print(df_ind)"
   ]
  }
 ],
 "metadata": {
  "kernelspec": {
   "display_name": "Python 3",
   "language": "python",
   "name": "python3"
  },
  "language_info": {
   "codemirror_mode": {
    "name": "ipython",
    "version": 3
   },
   "file_extension": ".py",
   "mimetype": "text/x-python",
   "name": "python",
   "nbconvert_exporter": "python",
   "pygments_lexer": "ipython3",
   "version": "3.10.9"
  },
  "orig_nbformat": 4,
  "vscode": {
   "interpreter": {
    "hash": "d55443a5a35fac7e751d18a5762e48df1dcf6d392d1642bbba5bcf272c74540e"
   }
  }
 },
 "nbformat": 4,
 "nbformat_minor": 2
}
